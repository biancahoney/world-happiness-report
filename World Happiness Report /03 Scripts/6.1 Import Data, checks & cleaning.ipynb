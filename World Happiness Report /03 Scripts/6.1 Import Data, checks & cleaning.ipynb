{
 "cells": [
  {
   "cell_type": "markdown",
   "id": "96e5482e",
   "metadata": {},
   "source": [
    "# Table of contents \n",
    "\n",
    "01. Import Libraries \n",
    "02. Import Datasets \n",
    "03. Data Checks \n",
    "04. Export Dataset"
   ]
  },
  {
   "cell_type": "markdown",
   "id": "fadabcda",
   "metadata": {},
   "source": [
    "### 01. Import Libraries "
   ]
  },
  {
   "cell_type": "code",
   "execution_count": 1,
   "id": "73d14645",
   "metadata": {},
   "outputs": [],
   "source": [
    "# Import Libraries\n",
    "\n",
    "import pandas as pd \n",
    "import numpy as np\n",
    "import os "
   ]
  },
  {
   "cell_type": "markdown",
   "id": "1bbe4c76",
   "metadata": {},
   "source": [
    "### 02. Import datasets"
   ]
  },
  {
   "cell_type": "code",
   "execution_count": 2,
   "id": "f2c4eb94",
   "metadata": {},
   "outputs": [],
   "source": [
    "# Define the file path\n",
    "file_path_1 = \"/Users/biancaskyehoney/Documents/World Happiness Report /02 Data /Original Data /2015.csv\"\n",
    "file_path_2 = \"/Users/biancaskyehoney/Documents/World Happiness Report /02 Data /Original Data /2016.csv\"\n",
    "file_path_3 = \"/Users/biancaskyehoney/Documents/World Happiness Report /02 Data /Original Data /2017.csv\"\n",
    "file_path_4 = \"/Users/biancaskyehoney/Documents/World Happiness Report /02 Data /Original Data /2018.csv\"\n",
    "file_path_5 = \"/Users/biancaskyehoney/Documents/World Happiness Report /02 Data /Original Data /2019.csv\""
   ]
  },
  {
   "cell_type": "code",
   "execution_count": 3,
   "id": "0d25310d",
   "metadata": {},
   "outputs": [],
   "source": [
    "# Read the CSV file into a DataFrame\n",
    "df_2015 = pd.read_csv(file_path_1)\n",
    "df_2016 = pd.read_csv(file_path_2)\n",
    "df_2017 = pd.read_csv(file_path_3)\n",
    "df_2018 = pd.read_csv(file_path_4)\n",
    "df_2019 = pd.read_csv(file_path_5)"
   ]
  },
  {
   "cell_type": "markdown",
   "id": "af4edf65",
   "metadata": {},
   "source": [
    "### 03. Data Checks "
   ]
  },
  {
   "cell_type": "code",
   "execution_count": 4,
   "id": "d2ff9370",
   "metadata": {},
   "outputs": [
    {
     "name": "stdout",
     "output_type": "stream",
     "text": [
      "['Country', 'Region', 'Happiness Rank', 'Happiness Score', 'Standard Error', 'Economy (GDP per Capita)', 'Family', 'Health (Life Expectancy)', 'Freedom', 'Trust (Government Corruption)', 'Generosity', 'Dystopia Residual']\n",
      "-----------\n",
      "['Country', 'Region', 'Happiness Rank', 'Happiness Score', 'Lower Confidence Interval', 'Upper Confidence Interval', 'Economy (GDP per Capita)', 'Family', 'Health (Life Expectancy)', 'Freedom', 'Trust (Government Corruption)', 'Generosity', 'Dystopia Residual']\n",
      "-----------\n",
      "['Country', 'Happiness.Rank', 'Happiness.Score', 'Whisker.high', 'Whisker.low', 'Economy..GDP.per.Capita.', 'Family', 'Health..Life.Expectancy.', 'Freedom', 'Generosity', 'Trust..Government.Corruption.', 'Dystopia.Residual']\n",
      "-----------\n",
      "['Overall rank', 'Country or region', 'Score', 'GDP per capita', 'Social support', 'Healthy life expectancy', 'Freedom to make life choices', 'Generosity', 'Perceptions of corruption']\n",
      "-----------\n",
      "['Overall rank', 'Country or region', 'Score', 'GDP per capita', 'Social support', 'Healthy life expectancy', 'Freedom to make life choices', 'Generosity', 'Perceptions of corruption']\n"
     ]
    }
   ],
   "source": [
    "# Print column headers\n",
    "\n",
    "print(list(df_2015.columns))\n",
    "print('-----------')\n",
    "print(list(df_2016.columns))\n",
    "print('-----------')\n",
    "print(list(df_2017.columns))\n",
    "print('-----------')\n",
    "print(list(df_2018.columns))\n",
    "print('-----------')\n",
    "print(list(df_2019.columns))"
   ]
  },
  {
   "cell_type": "markdown",
   "id": "af740025",
   "metadata": {},
   "source": [
    "#### Rename headings to ensure uniformity. "
   ]
  },
  {
   "cell_type": "code",
   "execution_count": 5,
   "id": "477f0f0e",
   "metadata": {},
   "outputs": [],
   "source": [
    "df_2015.rename(columns={'Happiness Rank':'Rank',\n",
    "              'Happiness Score':'Score',\n",
    "              'Economy (GDP per Capita)':'GDP',\n",
    "             'Health (Life Expectancy)':'Life Expectancy',\n",
    "              'Trust (Government Corruption)':'Corruption'\n",
    "             },inplace=True)\n",
    "\n",
    "df_2016.rename(columns={'Happiness Rank':'Rank',\n",
    "              'Happiness Score':'Score',\n",
    "              'Economy (GDP per Capita)':'GDP',\n",
    "             'Health (Life Expectancy)':'Life Expectancy',\n",
    "              'Trust (Government Corruption)':'Corruption'\n",
    "            },inplace=True)\n",
    "\n",
    "df_2017.rename(columns={'Happiness.Rank':'Rank',\n",
    "              'Happiness.Score':'Score',\n",
    "              'Economy..GDP.per.Capita.':'GDP',\n",
    "             'Health..Life.Expectancy.':'Life Expectancy',\n",
    "              'Trust..Government.Corruption.':'Corruption'\n",
    "            },inplace=True)\n",
    "\n",
    "df_2018.rename(columns={'Overall rank':'Rank','Country or region':'Country',\n",
    "              'Freedom to make life choices':'Freedom',\n",
    "              'GDP per capita':'GDP', \n",
    "             'Healthy life expectancy':'Life Expectancy',\n",
    "              'Perceptions of corruption':'Corruption',\n",
    "            },inplace=True)\n",
    "\n",
    "df_2019.rename(columns={'Overall rank':'Rank','Country or region':'Country',\n",
    "              'Freedom to make life choices':'Freedom',\n",
    "              'GDP per capita':'GDP', \n",
    "             'Healthy life expectancy':'Life Expectancy',\n",
    "              'Perceptions of corruption':'Corruption',\n",
    "            },inplace=True)"
   ]
  },
  {
   "cell_type": "code",
   "execution_count": 6,
   "id": "df100aa1",
   "metadata": {},
   "outputs": [
    {
     "name": "stdout",
     "output_type": "stream",
     "text": [
      "(158, 12)\n",
      "(157, 13)\n",
      "(155, 12)\n",
      "(156, 9)\n",
      "(156, 9)\n"
     ]
    }
   ],
   "source": [
    "print(df_2015.shape)\n",
    "print(df_2016.shape)\n",
    "print(df_2017.shape)\n",
    "print(df_2018.shape)\n",
    "print(df_2019.shape)"
   ]
  },
  {
   "cell_type": "code",
   "execution_count": 7,
   "id": "75c2f411",
   "metadata": {},
   "outputs": [
    {
     "name": "stdout",
     "output_type": "stream",
     "text": [
      "Country              0\n",
      "Region               0\n",
      "Rank                 0\n",
      "Score                0\n",
      "Standard Error       0\n",
      "GDP                  0\n",
      "Family               0\n",
      "Life Expectancy      0\n",
      "Freedom              0\n",
      "Corruption           0\n",
      "Generosity           0\n",
      "Dystopia Residual    0\n",
      "dtype: int64\n",
      "Country                      0\n",
      "Region                       0\n",
      "Rank                         0\n",
      "Score                        0\n",
      "Lower Confidence Interval    0\n",
      "Upper Confidence Interval    0\n",
      "GDP                          0\n",
      "Family                       0\n",
      "Life Expectancy              0\n",
      "Freedom                      0\n",
      "Corruption                   0\n",
      "Generosity                   0\n",
      "Dystopia Residual            0\n",
      "dtype: int64\n",
      "Country              0\n",
      "Rank                 0\n",
      "Score                0\n",
      "Whisker.high         0\n",
      "Whisker.low          0\n",
      "GDP                  0\n",
      "Family               0\n",
      "Life Expectancy      0\n",
      "Freedom              0\n",
      "Generosity           0\n",
      "Corruption           0\n",
      "Dystopia.Residual    0\n",
      "dtype: int64\n",
      "Rank               0\n",
      "Country            0\n",
      "Score              0\n",
      "GDP                0\n",
      "Social support     0\n",
      "Life Expectancy    0\n",
      "Freedom            0\n",
      "Generosity         0\n",
      "Corruption         1\n",
      "dtype: int64\n",
      "Rank               0\n",
      "Country            0\n",
      "Score              0\n",
      "GDP                0\n",
      "Social support     0\n",
      "Life Expectancy    0\n",
      "Freedom            0\n",
      "Generosity         0\n",
      "Corruption         0\n",
      "dtype: int64\n"
     ]
    }
   ],
   "source": [
    "print(df_2015.isnull().sum())\n",
    "print(df_2016.isnull().sum())\n",
    "print(df_2017.isnull().sum())\n",
    "print(df_2018.isnull().sum())\n",
    "print(df_2019.isnull().sum())"
   ]
  },
  {
   "cell_type": "code",
   "execution_count": 8,
   "id": "88e3115f",
   "metadata": {},
   "outputs": [
    {
     "data": {
      "text/plain": [
       "(782, 19)"
      ]
     },
     "execution_count": 8,
     "metadata": {},
     "output_type": "execute_result"
    }
   ],
   "source": [
    "df_2016['year']=2016\n",
    "df_2017['year']=2017\n",
    "df_2015['year']=2015\n",
    "df_2018['year']=2018\n",
    "df_2019['year']=2019\n",
    "df_all=pd.concat([df_2015,df_2016,df_2017,df_2018,df_2019],axis=0)\n",
    "df_all.shape"
   ]
  },
  {
   "cell_type": "code",
   "execution_count": 9,
   "id": "d1e3fd36",
   "metadata": {},
   "outputs": [
    {
     "data": {
      "text/html": [
       "<div>\n",
       "<style scoped>\n",
       "    .dataframe tbody tr th:only-of-type {\n",
       "        vertical-align: middle;\n",
       "    }\n",
       "\n",
       "    .dataframe tbody tr th {\n",
       "        vertical-align: top;\n",
       "    }\n",
       "\n",
       "    .dataframe thead th {\n",
       "        text-align: right;\n",
       "    }\n",
       "</style>\n",
       "<table border=\"1\" class=\"dataframe\">\n",
       "  <thead>\n",
       "    <tr style=\"text-align: right;\">\n",
       "      <th></th>\n",
       "      <th>Country</th>\n",
       "      <th>Region</th>\n",
       "      <th>Rank</th>\n",
       "      <th>Score</th>\n",
       "      <th>Standard Error</th>\n",
       "      <th>GDP</th>\n",
       "      <th>Family</th>\n",
       "      <th>Life Expectancy</th>\n",
       "      <th>Freedom</th>\n",
       "      <th>Corruption</th>\n",
       "      <th>Generosity</th>\n",
       "      <th>Dystopia Residual</th>\n",
       "      <th>year</th>\n",
       "      <th>Lower Confidence Interval</th>\n",
       "      <th>Upper Confidence Interval</th>\n",
       "      <th>Whisker.high</th>\n",
       "      <th>Whisker.low</th>\n",
       "      <th>Dystopia.Residual</th>\n",
       "      <th>Social support</th>\n",
       "    </tr>\n",
       "  </thead>\n",
       "  <tbody>\n",
       "    <tr>\n",
       "      <th>0</th>\n",
       "      <td>Switzerland</td>\n",
       "      <td>Western Europe</td>\n",
       "      <td>1</td>\n",
       "      <td>7.587</td>\n",
       "      <td>0.03411</td>\n",
       "      <td>1.39651</td>\n",
       "      <td>1.34951</td>\n",
       "      <td>0.94143</td>\n",
       "      <td>0.66557</td>\n",
       "      <td>0.41978</td>\n",
       "      <td>0.29678</td>\n",
       "      <td>2.51738</td>\n",
       "      <td>2015</td>\n",
       "      <td>NaN</td>\n",
       "      <td>NaN</td>\n",
       "      <td>NaN</td>\n",
       "      <td>NaN</td>\n",
       "      <td>NaN</td>\n",
       "      <td>NaN</td>\n",
       "    </tr>\n",
       "    <tr>\n",
       "      <th>1</th>\n",
       "      <td>Iceland</td>\n",
       "      <td>Western Europe</td>\n",
       "      <td>2</td>\n",
       "      <td>7.561</td>\n",
       "      <td>0.04884</td>\n",
       "      <td>1.30232</td>\n",
       "      <td>1.40223</td>\n",
       "      <td>0.94784</td>\n",
       "      <td>0.62877</td>\n",
       "      <td>0.14145</td>\n",
       "      <td>0.43630</td>\n",
       "      <td>2.70201</td>\n",
       "      <td>2015</td>\n",
       "      <td>NaN</td>\n",
       "      <td>NaN</td>\n",
       "      <td>NaN</td>\n",
       "      <td>NaN</td>\n",
       "      <td>NaN</td>\n",
       "      <td>NaN</td>\n",
       "    </tr>\n",
       "    <tr>\n",
       "      <th>2</th>\n",
       "      <td>Denmark</td>\n",
       "      <td>Western Europe</td>\n",
       "      <td>3</td>\n",
       "      <td>7.527</td>\n",
       "      <td>0.03328</td>\n",
       "      <td>1.32548</td>\n",
       "      <td>1.36058</td>\n",
       "      <td>0.87464</td>\n",
       "      <td>0.64938</td>\n",
       "      <td>0.48357</td>\n",
       "      <td>0.34139</td>\n",
       "      <td>2.49204</td>\n",
       "      <td>2015</td>\n",
       "      <td>NaN</td>\n",
       "      <td>NaN</td>\n",
       "      <td>NaN</td>\n",
       "      <td>NaN</td>\n",
       "      <td>NaN</td>\n",
       "      <td>NaN</td>\n",
       "    </tr>\n",
       "    <tr>\n",
       "      <th>3</th>\n",
       "      <td>Norway</td>\n",
       "      <td>Western Europe</td>\n",
       "      <td>4</td>\n",
       "      <td>7.522</td>\n",
       "      <td>0.03880</td>\n",
       "      <td>1.45900</td>\n",
       "      <td>1.33095</td>\n",
       "      <td>0.88521</td>\n",
       "      <td>0.66973</td>\n",
       "      <td>0.36503</td>\n",
       "      <td>0.34699</td>\n",
       "      <td>2.46531</td>\n",
       "      <td>2015</td>\n",
       "      <td>NaN</td>\n",
       "      <td>NaN</td>\n",
       "      <td>NaN</td>\n",
       "      <td>NaN</td>\n",
       "      <td>NaN</td>\n",
       "      <td>NaN</td>\n",
       "    </tr>\n",
       "    <tr>\n",
       "      <th>4</th>\n",
       "      <td>Canada</td>\n",
       "      <td>North America</td>\n",
       "      <td>5</td>\n",
       "      <td>7.427</td>\n",
       "      <td>0.03553</td>\n",
       "      <td>1.32629</td>\n",
       "      <td>1.32261</td>\n",
       "      <td>0.90563</td>\n",
       "      <td>0.63297</td>\n",
       "      <td>0.32957</td>\n",
       "      <td>0.45811</td>\n",
       "      <td>2.45176</td>\n",
       "      <td>2015</td>\n",
       "      <td>NaN</td>\n",
       "      <td>NaN</td>\n",
       "      <td>NaN</td>\n",
       "      <td>NaN</td>\n",
       "      <td>NaN</td>\n",
       "      <td>NaN</td>\n",
       "    </tr>\n",
       "  </tbody>\n",
       "</table>\n",
       "</div>"
      ],
      "text/plain": [
       "       Country          Region  Rank  Score  Standard Error      GDP   Family  \\\n",
       "0  Switzerland  Western Europe     1  7.587         0.03411  1.39651  1.34951   \n",
       "1      Iceland  Western Europe     2  7.561         0.04884  1.30232  1.40223   \n",
       "2      Denmark  Western Europe     3  7.527         0.03328  1.32548  1.36058   \n",
       "3       Norway  Western Europe     4  7.522         0.03880  1.45900  1.33095   \n",
       "4       Canada   North America     5  7.427         0.03553  1.32629  1.32261   \n",
       "\n",
       "   Life Expectancy  Freedom  Corruption  Generosity  Dystopia Residual  year  \\\n",
       "0          0.94143  0.66557     0.41978     0.29678            2.51738  2015   \n",
       "1          0.94784  0.62877     0.14145     0.43630            2.70201  2015   \n",
       "2          0.87464  0.64938     0.48357     0.34139            2.49204  2015   \n",
       "3          0.88521  0.66973     0.36503     0.34699            2.46531  2015   \n",
       "4          0.90563  0.63297     0.32957     0.45811            2.45176  2015   \n",
       "\n",
       "   Lower Confidence Interval  Upper Confidence Interval  Whisker.high  \\\n",
       "0                        NaN                        NaN           NaN   \n",
       "1                        NaN                        NaN           NaN   \n",
       "2                        NaN                        NaN           NaN   \n",
       "3                        NaN                        NaN           NaN   \n",
       "4                        NaN                        NaN           NaN   \n",
       "\n",
       "   Whisker.low  Dystopia.Residual  Social support  \n",
       "0          NaN                NaN             NaN  \n",
       "1          NaN                NaN             NaN  \n",
       "2          NaN                NaN             NaN  \n",
       "3          NaN                NaN             NaN  \n",
       "4          NaN                NaN             NaN  "
      ]
     },
     "execution_count": 9,
     "metadata": {},
     "output_type": "execute_result"
    }
   ],
   "source": [
    "df_all. head ()"
   ]
  },
  {
   "cell_type": "code",
   "execution_count": 10,
   "id": "8096e99a",
   "metadata": {},
   "outputs": [
    {
     "data": {
      "text/plain": [
       "Country                        0\n",
       "Region                       467\n",
       "Rank                           0\n",
       "Score                          0\n",
       "Standard Error               624\n",
       "GDP                            0\n",
       "Family                       312\n",
       "Life Expectancy                0\n",
       "Freedom                        0\n",
       "Corruption                     1\n",
       "Generosity                     0\n",
       "Dystopia Residual            467\n",
       "year                           0\n",
       "Lower Confidence Interval    625\n",
       "Upper Confidence Interval    625\n",
       "Whisker.high                 627\n",
       "Whisker.low                  627\n",
       "Dystopia.Residual            627\n",
       "Social support               470\n",
       "dtype: int64"
      ]
     },
     "execution_count": 10,
     "metadata": {},
     "output_type": "execute_result"
    }
   ],
   "source": [
    "df_all.isnull().sum()"
   ]
  },
  {
   "cell_type": "markdown",
   "id": "9bf4f2f7",
   "metadata": {},
   "source": [
    "Not all columns were used accross each data set - I have decided to drop those that are not uniform as aquiring this data will be difficult and not pertinent to this study. "
   ]
  },
  {
   "cell_type": "code",
   "execution_count": 11,
   "id": "1b27b7ab",
   "metadata": {},
   "outputs": [
    {
     "data": {
      "text/html": [
       "<div>\n",
       "<style scoped>\n",
       "    .dataframe tbody tr th:only-of-type {\n",
       "        vertical-align: middle;\n",
       "    }\n",
       "\n",
       "    .dataframe tbody tr th {\n",
       "        vertical-align: top;\n",
       "    }\n",
       "\n",
       "    .dataframe thead th {\n",
       "        text-align: right;\n",
       "    }\n",
       "</style>\n",
       "<table border=\"1\" class=\"dataframe\">\n",
       "  <thead>\n",
       "    <tr style=\"text-align: right;\">\n",
       "      <th></th>\n",
       "      <th>Country</th>\n",
       "      <th>Region</th>\n",
       "      <th>Rank</th>\n",
       "      <th>Score</th>\n",
       "      <th>GDP</th>\n",
       "      <th>Life Expectancy</th>\n",
       "      <th>Freedom</th>\n",
       "      <th>Corruption</th>\n",
       "      <th>Generosity</th>\n",
       "      <th>year</th>\n",
       "    </tr>\n",
       "  </thead>\n",
       "  <tbody>\n",
       "    <tr>\n",
       "      <th>0</th>\n",
       "      <td>Switzerland</td>\n",
       "      <td>Western Europe</td>\n",
       "      <td>1</td>\n",
       "      <td>7.587</td>\n",
       "      <td>1.39651</td>\n",
       "      <td>0.94143</td>\n",
       "      <td>0.66557</td>\n",
       "      <td>0.41978</td>\n",
       "      <td>0.29678</td>\n",
       "      <td>2015</td>\n",
       "    </tr>\n",
       "    <tr>\n",
       "      <th>1</th>\n",
       "      <td>Iceland</td>\n",
       "      <td>Western Europe</td>\n",
       "      <td>2</td>\n",
       "      <td>7.561</td>\n",
       "      <td>1.30232</td>\n",
       "      <td>0.94784</td>\n",
       "      <td>0.62877</td>\n",
       "      <td>0.14145</td>\n",
       "      <td>0.43630</td>\n",
       "      <td>2015</td>\n",
       "    </tr>\n",
       "    <tr>\n",
       "      <th>2</th>\n",
       "      <td>Denmark</td>\n",
       "      <td>Western Europe</td>\n",
       "      <td>3</td>\n",
       "      <td>7.527</td>\n",
       "      <td>1.32548</td>\n",
       "      <td>0.87464</td>\n",
       "      <td>0.64938</td>\n",
       "      <td>0.48357</td>\n",
       "      <td>0.34139</td>\n",
       "      <td>2015</td>\n",
       "    </tr>\n",
       "    <tr>\n",
       "      <th>3</th>\n",
       "      <td>Norway</td>\n",
       "      <td>Western Europe</td>\n",
       "      <td>4</td>\n",
       "      <td>7.522</td>\n",
       "      <td>1.45900</td>\n",
       "      <td>0.88521</td>\n",
       "      <td>0.66973</td>\n",
       "      <td>0.36503</td>\n",
       "      <td>0.34699</td>\n",
       "      <td>2015</td>\n",
       "    </tr>\n",
       "    <tr>\n",
       "      <th>4</th>\n",
       "      <td>Canada</td>\n",
       "      <td>North America</td>\n",
       "      <td>5</td>\n",
       "      <td>7.427</td>\n",
       "      <td>1.32629</td>\n",
       "      <td>0.90563</td>\n",
       "      <td>0.63297</td>\n",
       "      <td>0.32957</td>\n",
       "      <td>0.45811</td>\n",
       "      <td>2015</td>\n",
       "    </tr>\n",
       "  </tbody>\n",
       "</table>\n",
       "</div>"
      ],
      "text/plain": [
       "       Country          Region  Rank  Score      GDP  Life Expectancy  \\\n",
       "0  Switzerland  Western Europe     1  7.587  1.39651          0.94143   \n",
       "1      Iceland  Western Europe     2  7.561  1.30232          0.94784   \n",
       "2      Denmark  Western Europe     3  7.527  1.32548          0.87464   \n",
       "3       Norway  Western Europe     4  7.522  1.45900          0.88521   \n",
       "4       Canada   North America     5  7.427  1.32629          0.90563   \n",
       "\n",
       "   Freedom  Corruption  Generosity  year  \n",
       "0  0.66557     0.41978     0.29678  2015  \n",
       "1  0.62877     0.14145     0.43630  2015  \n",
       "2  0.64938     0.48357     0.34139  2015  \n",
       "3  0.66973     0.36503     0.34699  2015  \n",
       "4  0.63297     0.32957     0.45811  2015  "
      ]
     },
     "execution_count": 11,
     "metadata": {},
     "output_type": "execute_result"
    }
   ],
   "source": [
    "df =df_all.drop(['Dystopia Residual','Lower Confidence Interval',\n",
    "               'Upper Confidence Interval','Whisker.high','Whisker.low','Dystopia.Residual',\n",
    "              'Social support','Family','Standard Error'],axis=1)\n",
    "df.head()"
   ]
  },
  {
   "cell_type": "code",
   "execution_count": 12,
   "id": "c75462b0",
   "metadata": {},
   "outputs": [
    {
     "data": {
      "text/html": [
       "<div>\n",
       "<style scoped>\n",
       "    .dataframe tbody tr th:only-of-type {\n",
       "        vertical-align: middle;\n",
       "    }\n",
       "\n",
       "    .dataframe tbody tr th {\n",
       "        vertical-align: top;\n",
       "    }\n",
       "\n",
       "    .dataframe thead th {\n",
       "        text-align: right;\n",
       "    }\n",
       "</style>\n",
       "<table border=\"1\" class=\"dataframe\">\n",
       "  <thead>\n",
       "    <tr style=\"text-align: right;\">\n",
       "      <th></th>\n",
       "      <th>Rank</th>\n",
       "      <th>Score</th>\n",
       "      <th>GDP</th>\n",
       "      <th>Life Expectancy</th>\n",
       "      <th>Freedom</th>\n",
       "      <th>Corruption</th>\n",
       "      <th>Generosity</th>\n",
       "      <th>year</th>\n",
       "    </tr>\n",
       "  </thead>\n",
       "  <tbody>\n",
       "    <tr>\n",
       "      <th>count</th>\n",
       "      <td>782.000000</td>\n",
       "      <td>782.000000</td>\n",
       "      <td>782.000000</td>\n",
       "      <td>782.000000</td>\n",
       "      <td>782.000000</td>\n",
       "      <td>781.000000</td>\n",
       "      <td>782.000000</td>\n",
       "      <td>782.000000</td>\n",
       "    </tr>\n",
       "    <tr>\n",
       "      <th>mean</th>\n",
       "      <td>78.698210</td>\n",
       "      <td>5.379018</td>\n",
       "      <td>0.916047</td>\n",
       "      <td>0.612416</td>\n",
       "      <td>0.411091</td>\n",
       "      <td>0.125436</td>\n",
       "      <td>0.218576</td>\n",
       "      <td>2016.993606</td>\n",
       "    </tr>\n",
       "    <tr>\n",
       "      <th>std</th>\n",
       "      <td>45.182384</td>\n",
       "      <td>1.127456</td>\n",
       "      <td>0.407340</td>\n",
       "      <td>0.248309</td>\n",
       "      <td>0.152880</td>\n",
       "      <td>0.105816</td>\n",
       "      <td>0.122321</td>\n",
       "      <td>1.417364</td>\n",
       "    </tr>\n",
       "    <tr>\n",
       "      <th>min</th>\n",
       "      <td>1.000000</td>\n",
       "      <td>2.693000</td>\n",
       "      <td>0.000000</td>\n",
       "      <td>0.000000</td>\n",
       "      <td>0.000000</td>\n",
       "      <td>0.000000</td>\n",
       "      <td>0.000000</td>\n",
       "      <td>2015.000000</td>\n",
       "    </tr>\n",
       "    <tr>\n",
       "      <th>25%</th>\n",
       "      <td>40.000000</td>\n",
       "      <td>4.509750</td>\n",
       "      <td>0.606500</td>\n",
       "      <td>0.440183</td>\n",
       "      <td>0.309768</td>\n",
       "      <td>0.054000</td>\n",
       "      <td>0.130000</td>\n",
       "      <td>2016.000000</td>\n",
       "    </tr>\n",
       "    <tr>\n",
       "      <th>50%</th>\n",
       "      <td>79.000000</td>\n",
       "      <td>5.322000</td>\n",
       "      <td>0.982205</td>\n",
       "      <td>0.647310</td>\n",
       "      <td>0.431000</td>\n",
       "      <td>0.091000</td>\n",
       "      <td>0.201982</td>\n",
       "      <td>2017.000000</td>\n",
       "    </tr>\n",
       "    <tr>\n",
       "      <th>75%</th>\n",
       "      <td>118.000000</td>\n",
       "      <td>6.189500</td>\n",
       "      <td>1.236187</td>\n",
       "      <td>0.808000</td>\n",
       "      <td>0.531000</td>\n",
       "      <td>0.156030</td>\n",
       "      <td>0.278832</td>\n",
       "      <td>2018.000000</td>\n",
       "    </tr>\n",
       "    <tr>\n",
       "      <th>max</th>\n",
       "      <td>158.000000</td>\n",
       "      <td>7.769000</td>\n",
       "      <td>2.096000</td>\n",
       "      <td>1.141000</td>\n",
       "      <td>0.724000</td>\n",
       "      <td>0.551910</td>\n",
       "      <td>0.838075</td>\n",
       "      <td>2019.000000</td>\n",
       "    </tr>\n",
       "  </tbody>\n",
       "</table>\n",
       "</div>"
      ],
      "text/plain": [
       "             Rank       Score         GDP  Life Expectancy     Freedom  \\\n",
       "count  782.000000  782.000000  782.000000       782.000000  782.000000   \n",
       "mean    78.698210    5.379018    0.916047         0.612416    0.411091   \n",
       "std     45.182384    1.127456    0.407340         0.248309    0.152880   \n",
       "min      1.000000    2.693000    0.000000         0.000000    0.000000   \n",
       "25%     40.000000    4.509750    0.606500         0.440183    0.309768   \n",
       "50%     79.000000    5.322000    0.982205         0.647310    0.431000   \n",
       "75%    118.000000    6.189500    1.236187         0.808000    0.531000   \n",
       "max    158.000000    7.769000    2.096000         1.141000    0.724000   \n",
       "\n",
       "       Corruption  Generosity         year  \n",
       "count  781.000000  782.000000   782.000000  \n",
       "mean     0.125436    0.218576  2016.993606  \n",
       "std      0.105816    0.122321     1.417364  \n",
       "min      0.000000    0.000000  2015.000000  \n",
       "25%      0.054000    0.130000  2016.000000  \n",
       "50%      0.091000    0.201982  2017.000000  \n",
       "75%      0.156030    0.278832  2018.000000  \n",
       "max      0.551910    0.838075  2019.000000  "
      ]
     },
     "execution_count": 12,
     "metadata": {},
     "output_type": "execute_result"
    }
   ],
   "source": [
    "df.describe()"
   ]
  },
  {
   "cell_type": "code",
   "execution_count": 13,
   "id": "f400c5a9",
   "metadata": {},
   "outputs": [
    {
     "data": {
      "text/plain": [
       "Country              0\n",
       "Region             467\n",
       "Rank                 0\n",
       "Score                0\n",
       "GDP                  0\n",
       "Life Expectancy      0\n",
       "Freedom              0\n",
       "Corruption           1\n",
       "Generosity           0\n",
       "year                 0\n",
       "dtype: int64"
      ]
     },
     "execution_count": 13,
     "metadata": {},
     "output_type": "execute_result"
    }
   ],
   "source": [
    "df.isnull().sum()"
   ]
  },
  {
   "cell_type": "markdown",
   "id": "94fac6c1",
   "metadata": {},
   "source": [
    "Regions Not needed for this study - going to combine regions/country column to adjust for missing values "
   ]
  },
  {
   "cell_type": "markdown",
   "id": "1f409c68",
   "metadata": {},
   "source": [
    "Only 2015 & 2016 have Regions available - we can use these as a data dictionary to map accross missing regions in other datasets"
   ]
  },
  {
   "cell_type": "code",
   "execution_count": 14,
   "id": "1ae8d4fd",
   "metadata": {},
   "outputs": [],
   "source": [
    "# Create a dictionary that maps countries to regions\n",
    "region_dict = df_2016.set_index('Country')['Region'].to_dict()\n",
    "\n",
    "# Map the regions to the countries in the happiness dataframe\n",
    "df['Region'] = df['Country'].map(region_dict)\n"
   ]
  },
  {
   "cell_type": "code",
   "execution_count": 15,
   "id": "dc4da368",
   "metadata": {},
   "outputs": [
    {
     "data": {
      "text/html": [
       "<div>\n",
       "<style scoped>\n",
       "    .dataframe tbody tr th:only-of-type {\n",
       "        vertical-align: middle;\n",
       "    }\n",
       "\n",
       "    .dataframe tbody tr th {\n",
       "        vertical-align: top;\n",
       "    }\n",
       "\n",
       "    .dataframe thead th {\n",
       "        text-align: right;\n",
       "    }\n",
       "</style>\n",
       "<table border=\"1\" class=\"dataframe\">\n",
       "  <thead>\n",
       "    <tr style=\"text-align: right;\">\n",
       "      <th></th>\n",
       "      <th>Country</th>\n",
       "      <th>Region</th>\n",
       "      <th>Rank</th>\n",
       "      <th>Score</th>\n",
       "      <th>GDP</th>\n",
       "      <th>Life Expectancy</th>\n",
       "      <th>Freedom</th>\n",
       "      <th>Corruption</th>\n",
       "      <th>Generosity</th>\n",
       "      <th>year</th>\n",
       "    </tr>\n",
       "  </thead>\n",
       "  <tbody>\n",
       "    <tr>\n",
       "      <th>0</th>\n",
       "      <td>Switzerland</td>\n",
       "      <td>Western Europe</td>\n",
       "      <td>1</td>\n",
       "      <td>7.587</td>\n",
       "      <td>1.39651</td>\n",
       "      <td>0.94143</td>\n",
       "      <td>0.66557</td>\n",
       "      <td>0.41978</td>\n",
       "      <td>0.29678</td>\n",
       "      <td>2015</td>\n",
       "    </tr>\n",
       "    <tr>\n",
       "      <th>1</th>\n",
       "      <td>Iceland</td>\n",
       "      <td>Western Europe</td>\n",
       "      <td>2</td>\n",
       "      <td>7.561</td>\n",
       "      <td>1.30232</td>\n",
       "      <td>0.94784</td>\n",
       "      <td>0.62877</td>\n",
       "      <td>0.14145</td>\n",
       "      <td>0.43630</td>\n",
       "      <td>2015</td>\n",
       "    </tr>\n",
       "    <tr>\n",
       "      <th>2</th>\n",
       "      <td>Denmark</td>\n",
       "      <td>Western Europe</td>\n",
       "      <td>3</td>\n",
       "      <td>7.527</td>\n",
       "      <td>1.32548</td>\n",
       "      <td>0.87464</td>\n",
       "      <td>0.64938</td>\n",
       "      <td>0.48357</td>\n",
       "      <td>0.34139</td>\n",
       "      <td>2015</td>\n",
       "    </tr>\n",
       "    <tr>\n",
       "      <th>3</th>\n",
       "      <td>Norway</td>\n",
       "      <td>Western Europe</td>\n",
       "      <td>4</td>\n",
       "      <td>7.522</td>\n",
       "      <td>1.45900</td>\n",
       "      <td>0.88521</td>\n",
       "      <td>0.66973</td>\n",
       "      <td>0.36503</td>\n",
       "      <td>0.34699</td>\n",
       "      <td>2015</td>\n",
       "    </tr>\n",
       "    <tr>\n",
       "      <th>4</th>\n",
       "      <td>Canada</td>\n",
       "      <td>North America</td>\n",
       "      <td>5</td>\n",
       "      <td>7.427</td>\n",
       "      <td>1.32629</td>\n",
       "      <td>0.90563</td>\n",
       "      <td>0.63297</td>\n",
       "      <td>0.32957</td>\n",
       "      <td>0.45811</td>\n",
       "      <td>2015</td>\n",
       "    </tr>\n",
       "  </tbody>\n",
       "</table>\n",
       "</div>"
      ],
      "text/plain": [
       "       Country          Region  Rank  Score      GDP  Life Expectancy  \\\n",
       "0  Switzerland  Western Europe     1  7.587  1.39651          0.94143   \n",
       "1      Iceland  Western Europe     2  7.561  1.30232          0.94784   \n",
       "2      Denmark  Western Europe     3  7.527  1.32548          0.87464   \n",
       "3       Norway  Western Europe     4  7.522  1.45900          0.88521   \n",
       "4       Canada   North America     5  7.427  1.32629          0.90563   \n",
       "\n",
       "   Freedom  Corruption  Generosity  year  \n",
       "0  0.66557     0.41978     0.29678  2015  \n",
       "1  0.62877     0.14145     0.43630  2015  \n",
       "2  0.64938     0.48357     0.34139  2015  \n",
       "3  0.66973     0.36503     0.34699  2015  \n",
       "4  0.63297     0.32957     0.45811  2015  "
      ]
     },
     "execution_count": 15,
     "metadata": {},
     "output_type": "execute_result"
    }
   ],
   "source": [
    "df.head()"
   ]
  },
  {
   "cell_type": "markdown",
   "id": "73e4bdd5",
   "metadata": {},
   "source": [
    "Now that we have added regions - some countries do not have regions assigned to them - will need to see which countries have missing regions & map by manually searching regions"
   ]
  },
  {
   "cell_type": "code",
   "execution_count": 16,
   "id": "c7e7f15c",
   "metadata": {},
   "outputs": [
    {
     "name": "stdout",
     "output_type": "stream",
     "text": [
      "Countries with missing regions:\n",
      "Oman\n",
      "Somaliland region\n",
      "Mozambique\n",
      "Lesotho\n",
      "Swaziland\n",
      "Djibouti\n",
      "Central African Republic\n",
      "Taiwan Province of China\n",
      "Hong Kong S.A.R., China\n",
      "Trinidad & Tobago\n",
      "Northern Cyprus\n",
      "North Macedonia\n",
      "Gambia\n"
     ]
    }
   ],
   "source": [
    "# Find which countries have a missing region\n",
    "missing_regions = df[df['Region'].isnull()]['Country'].unique()\n",
    "\n",
    "# Print the list of countries with missing regions\n",
    "print(\"Countries with missing regions:\")\n",
    "for country in missing_regions:\n",
    "    print(country)"
   ]
  },
  {
   "cell_type": "markdown",
   "id": "ab013c6e",
   "metadata": {},
   "source": [
    "First, I want to see which naming conventions are being used for the current regions that are mapped across the datasert - so that I can name the missing countries regions accordingly"
   ]
  },
  {
   "cell_type": "code",
   "execution_count": 17,
   "id": "787c675e",
   "metadata": {},
   "outputs": [
    {
     "name": "stdout",
     "output_type": "stream",
     "text": [
      "Region\n",
      "Australia and New Zealand           10\n",
      "Central and Eastern Europe         144\n",
      "Eastern Asia                        28\n",
      "Latin America and Caribbean        109\n",
      "Middle East and Northern Africa     95\n",
      "North America                       10\n",
      "Southeastern Asia                   44\n",
      "Southern Asia                       35\n",
      "Sub-Saharan Africa                 179\n",
      "Western Europe                     103\n",
      "Name: Country, dtype: int64\n"
     ]
    }
   ],
   "source": [
    "region_counts = df.groupby('Region')['Country'].count()\n",
    "print(region_counts)"
   ]
  },
  {
   "cell_type": "markdown",
   "id": "c54c12b1",
   "metadata": {},
   "source": [
    "HAving searched and mapped how these countries fit into these regions, we will make the following data dictionary in order to map countries and regions appropriately"
   ]
  },
  {
   "cell_type": "code",
   "execution_count": 18,
   "id": "bb428e21",
   "metadata": {},
   "outputs": [],
   "source": [
    "# Dictionary with countries matched to their appropriate regions \n",
    "region_dict = {\n",
    "     'Oman': 'Middle East and Northern Africa', \n",
    "     'Somaliland region': 'Sub-Saharan Africa',  \n",
    "     'Mozambique': 'Sub-Saharan Africa', \n",
    "     'Lesotho': 'Sub-Saharan Africa', \n",
    "     'Swaziland': 'Sub-Saharan Africa', \n",
    "     'Djibouti': 'Sub-Saharan Africa', \n",
    "     'Central African Republic': 'Sub-Saharan Africa', \n",
    "     'Taiwan Province of China': 'Eastern Asia', \n",
    "     'Hong Kong S.A.R., China': 'Eastern Asia', \n",
    "     'Trinidad & Tobago': 'Latin America and Caribbean', \n",
    "     'Northern Cyprus': 'Central and Eastern Europe', \n",
    "     'North Macedonia': 'Central and Eastern Europe', \n",
    "     'Gambia': 'Sub-Saharan Africa'\n",
    "}"
   ]
  },
  {
   "cell_type": "code",
   "execution_count": 19,
   "id": "bc29527e",
   "metadata": {},
   "outputs": [],
   "source": [
    "# Use the map() method to modify the Region column\n",
    "df['Region'] = df['Region'].fillna(df['Country'].map(region_dict))"
   ]
  },
  {
   "cell_type": "code",
   "execution_count": 20,
   "id": "2dd5226e",
   "metadata": {},
   "outputs": [
    {
     "name": "stdout",
     "output_type": "stream",
     "text": [
      "                      Country              Region  Rank  Score      GDP  \\\n",
      "0                 Switzerland      Western Europe     1  7.587  1.39651   \n",
      "1                     Iceland      Western Europe     2  7.561  1.30232   \n",
      "2                     Denmark      Western Europe     3  7.527  1.32548   \n",
      "3                      Norway      Western Europe     4  7.522  1.45900   \n",
      "4                      Canada       North America     5  7.427  1.32629   \n",
      "..                        ...                 ...   ...    ...      ...   \n",
      "151                    Rwanda  Sub-Saharan Africa   152  3.334  0.35900   \n",
      "152                  Tanzania  Sub-Saharan Africa   153  3.231  0.47600   \n",
      "153               Afghanistan       Southern Asia   154  3.203  0.35000   \n",
      "154  Central African Republic  Sub-Saharan Africa   155  3.083  0.02600   \n",
      "155               South Sudan  Sub-Saharan Africa   156  2.853  0.30600   \n",
      "\n",
      "     Life Expectancy  Freedom  Corruption  Generosity  year  \n",
      "0            0.94143  0.66557     0.41978     0.29678  2015  \n",
      "1            0.94784  0.62877     0.14145     0.43630  2015  \n",
      "2            0.87464  0.64938     0.48357     0.34139  2015  \n",
      "3            0.88521  0.66973     0.36503     0.34699  2015  \n",
      "4            0.90563  0.63297     0.32957     0.45811  2015  \n",
      "..               ...      ...         ...         ...   ...  \n",
      "151          0.61400  0.55500     0.41100     0.21700  2019  \n",
      "152          0.49900  0.41700     0.14700     0.27600  2019  \n",
      "153          0.36100  0.00000     0.02500     0.15800  2019  \n",
      "154          0.10500  0.22500     0.03500     0.23500  2019  \n",
      "155          0.29500  0.01000     0.09100     0.20200  2019  \n",
      "\n",
      "[782 rows x 10 columns]\n"
     ]
    }
   ],
   "source": [
    "print(df)"
   ]
  },
  {
   "cell_type": "code",
   "execution_count": 21,
   "id": "7a55d0ca",
   "metadata": {},
   "outputs": [
    {
     "data": {
      "text/plain": [
       "Country            0\n",
       "Region             0\n",
       "Rank               0\n",
       "Score              0\n",
       "GDP                0\n",
       "Life Expectancy    0\n",
       "Freedom            0\n",
       "Corruption         1\n",
       "Generosity         0\n",
       "year               0\n",
       "dtype: int64"
      ]
     },
     "execution_count": 21,
     "metadata": {},
     "output_type": "execute_result"
    }
   ],
   "source": [
    "df.isnull().sum()"
   ]
  },
  {
   "cell_type": "markdown",
   "id": "d9a4f835",
   "metadata": {},
   "source": [
    "That looks much better! "
   ]
  },
  {
   "cell_type": "markdown",
   "id": "7614cf9a",
   "metadata": {},
   "source": [
    "Now just to check which missing value is in the Corruption column."
   ]
  },
  {
   "cell_type": "code",
   "execution_count": 22,
   "id": "4bea6508",
   "metadata": {},
   "outputs": [
    {
     "data": {
      "text/plain": [
       "Country             object\n",
       "Region              object\n",
       "Rank                 int64\n",
       "Score              float64\n",
       "GDP                float64\n",
       "Life Expectancy    float64\n",
       "Freedom            float64\n",
       "Corruption         float64\n",
       "Generosity         float64\n",
       "year                 int64\n",
       "dtype: object"
      ]
     },
     "execution_count": 22,
     "metadata": {},
     "output_type": "execute_result"
    }
   ],
   "source": [
    "df. dtypes"
   ]
  },
  {
   "cell_type": "markdown",
   "id": "df078790",
   "metadata": {},
   "source": [
    "### 04. Export"
   ]
  },
  {
   "cell_type": "code",
   "execution_count": 23,
   "id": "e9d3cd6b",
   "metadata": {},
   "outputs": [],
   "source": [
    "# Define the file path for exporting the DataFrame\n",
    "export_path = \"/Users/biancaskyehoney/Documents/World Happiness Report /02 Data /Prepared Data/df_clean.csv\"\n",
    "\n",
    "# Export the DataFrame to a pickle file\n",
    "df.to_csv(export_path)"
   ]
  },
  {
   "cell_type": "code",
   "execution_count": null,
   "id": "b1392e29",
   "metadata": {},
   "outputs": [],
   "source": []
  }
 ],
 "metadata": {
  "kernelspec": {
   "display_name": "Python 3 (ipykernel)",
   "language": "python",
   "name": "python3"
  },
  "language_info": {
   "codemirror_mode": {
    "name": "ipython",
    "version": 3
   },
   "file_extension": ".py",
   "mimetype": "text/x-python",
   "name": "python",
   "nbconvert_exporter": "python",
   "pygments_lexer": "ipython3",
   "version": "3.11.4"
  }
 },
 "nbformat": 4,
 "nbformat_minor": 5
}
